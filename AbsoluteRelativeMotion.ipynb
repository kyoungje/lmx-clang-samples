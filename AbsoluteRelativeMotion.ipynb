{
 "cells": [
  {
   "cell_type": "markdown",
   "metadata": {},
   "source": [
    "# 📖 [LMX Tutorial] Absolute and Relative motion (in C++)\n",
    "\n",
    "Based on the following WMX API document:\n",
    "\n",
    "http://download.movensys.com:8222/doc/wmx3/en/html/api/page_WMXDOC_TUTORIAL_SEC3_1_ABS_REL.html\n",
    "\n",
    "### 📢Important note about xeus-cling\n",
    "A Jupyter kernel for C++ based on the `cling` C++ interpreter and the `xeus` native implementation of the Jupyter protocol, xeus.\n",
    "\n",
    "To understand how the xeus-clang works, please try to run the following sample notebook provided by xeus-cling in advance.\n",
    "\n",
    "Link to [xeus-cling notebook sample](xeus-cling-notebooks/xcpp.ipynb)"
   ]
  },
  {
   "cell_type": "markdown",
   "metadata": {},
   "source": [
    "## Mandatory: include a LMX cling header file to load WMX libraries"
   ]
  },
  {
   "cell_type": "code",
   "execution_count": 1,
   "metadata": {},
   "outputs": [],
   "source": [
    "// Load necessary libraries that are required by WMX3 API first\n",
    "#include <lmx/lmx_cling_config.hpp>"
   ]
  },
  {
   "cell_type": "markdown",
   "metadata": {},
   "source": [
    "## Import WMX library and Initialize a WMX3 API device"
   ]
  },
  {
   "cell_type": "code",
   "execution_count": 2,
   "metadata": {},
   "outputs": [
    {
     "name": "stdout",
     "output_type": "stream",
     "text": [
      "Program Start\n",
      "CreateDevice succeeded!\n"
     ]
    }
   ],
   "source": [
    "#include <iostream>\n",
    "#include <stdexcept>\n",
    "\n",
    "// When all the devices are done, the WMX3 engine will also terminate.\n",
    "#include \"WMX3Api.h\"\n",
    "#include \"CoreMotionApi.h\"\n",
    "\n",
    "using namespace wmx3Api;\n",
    "\n",
    "WMX3Api wmx3Lib;\n",
    "CoreMotionStatus cmStatus;\n",
    "CoreMotion wmx3LibCore(&wmx3Lib);\n",
    "\n",
    "// Declare variables to handle a return value\n",
    "int     ret;\n",
    "char    errString[256];\n",
    "\n",
    "std::cout << \"Program Start\" << std::endl;\n",
    "\n",
    "// Create device.\n",
    "ret = wmx3Lib.CreateDevice(\"/opt/lmx/\", DeviceType::DeviceTypeNormal, INFINITE);\n",
    "if (ret != ErrorCode::None) {\n",
    "    std::cerr << \"Failed to execute CreateDevice. Error=\" << ret << std::endl;\n",
    "    throw std::runtime_error(\"WMX API exception\");\n",
    "}\n",
    "\n",
    "std::cout << \"CreateDevice succeeded!\" << std::endl;"
   ]
  },
  {
   "cell_type": "markdown",
   "metadata": {},
   "source": [
    "## Set the device name and start communication"
   ]
  },
  {
   "cell_type": "code",
   "execution_count": 3,
   "metadata": {},
   "outputs": [
    {
     "name": "stdout",
     "output_type": "stream",
     "text": [
      "StartCommunication succeeded!\n"
     ]
    }
   ],
   "source": [
    "// Set Device Name.\n",
    "wmx3Lib.SetDeviceName(\"MotorControl\");\n",
    "if (ret != ErrorCode::None) {\n",
    "    std::cerr << \"Failed to execute SetDeviceName. Error=\" << ret << std::endl;\n",
    "    throw std::runtime_error(\"WMX API exception\");\n",
    "}\n",
    "\n",
    "// Start Communication.\n",
    "wmx3Lib.StartCommunication(INFINITE);\n",
    "if (ret != ErrorCode::None) {\n",
    "    std::cerr << \"Failed to execute StartCommunication. Error=\" << ret << std::endl;\n",
    "    throw std::runtime_error(\"WMX API exception\");\n",
    "}\n",
    "\n",
    "std::cout << \"StartCommunication succeeded!\" << std::endl;"
   ]
  },
  {
   "cell_type": "code",
   "execution_count": 4,
   "metadata": {},
   "outputs": [
    {
     "name": "stdout",
     "output_type": "stream",
     "text": [
      "device Id : 0 Name : MotorControl\n"
     ]
    }
   ],
   "source": [
    "// Get DevicesInfo to determine the type of device currently created\n",
    "wmx3Api::DevicesInfoA devInfo;\n",
    "\n",
    "// Set wmx3Lib Name.\n",
    "ret = wmx3Lib.GetAllDevices(&devInfo);\n",
    "if (ret != ErrorCode::None) {\n",
    "    std::cerr << \"Failed to execute GetAllDevices. Error=\" << ret << std::endl;\n",
    "    throw std::runtime_error(\"WMX API exception\");\n",
    "}\n",
    "\n",
    "std::cout << \"device Id : \" << devInfo.devices[0].id << \" Name : \" << devInfo.devices[0].name << std::endl;\n"
   ]
  },
  {
   "cell_type": "markdown",
   "metadata": {},
   "source": [
    "## Set servo ON ▶️"
   ]
  },
  {
   "cell_type": "code",
   "execution_count": 5,
   "metadata": {},
   "outputs": [],
   "source": [
    "// Set servo on.\n",
    "wmx3LibCore.axisControl->SetServoOn(0, 1);\n",
    "while (true)\n",
    "{\n",
    "    wmx3LibCore.GetStatus(&cmStatus);\n",
    "    if (cmStatus.axesStatus[0].servoOn)\n",
    "    {\n",
    "        break;\n",
    "    }\n",
    "\n",
    "    Sleep(100);\n",
    "}"
   ]
  },
  {
   "cell_type": "markdown",
   "metadata": {},
   "source": [
    "## 1. Absolute position command (StartPos)\n",
    "\n",
    "Refer to the following documentation:\n",
    "\n",
    "http://download.movensys.com:8222/doc/wmx3/en/html/api/classwmx3_api_1_1_motion.html#_CPPv4N7wmx3Api6Motion8StartPosEjP17TriggerPosCommand"
   ]
  },
  {
   "cell_type": "code",
   "execution_count": 7,
   "metadata": {},
   "outputs": [
    {
     "name": "stdout",
     "output_type": "stream",
     "text": [
      "StartPos succeeded!\n"
     ]
    }
   ],
   "source": [
    "Motion::PosCommand pos;\n",
    "\n",
    "//Set position command parameters\n",
    "pos.axis = 0;\n",
    "pos.profile.type = ProfileType::Trapezoidal;\n",
    "pos.profile.velocity = 10000;\n",
    "pos.profile.acc = 10000;\n",
    "pos.profile.dec = 10000;\n",
    "\n",
    "//Execute absolute position command to 10000\n",
    "pos.target = 10000;\n",
    "ret = wmx3LibCore.motion->StartPos(&pos);\n",
    "if (ret != ErrorCode::None) {\n",
    "    wmx3LibCore.ErrorToString(ret, errString, sizeof(errString));\n",
    "    std::cerr << \"Failed to execute StartPos. Error=\" << ret << \" (\" << errString << \")\" << std::endl;\n",
    "    throw std::runtime_error(\"WMX API exception\");\n",
    "}\n",
    "\n",
    "//Block execution until motion is finished\n",
    "ret = wmx3LibCore.motion->Wait(0);\n",
    "if (ret != ErrorCode::None) {\n",
    "    wmx3LibCore.ErrorToString(ret, errString, sizeof(errString));\n",
    "    std::cerr << \"Failed to execute Wait. Error=\" << ret << \" (\" << errString << \")\" << std::endl;\n",
    "    throw std::runtime_error(\"WMX API exception\");\n",
    "}\n",
    "\n",
    "std::cout << \"StartPos succeeded!\" << std::endl;"
   ]
  },
  {
   "cell_type": "markdown",
   "metadata": {},
   "source": [
    "### 1.1 Draw the position and velocity plots for relative motion 📈"
   ]
  },
  {
   "cell_type": "code",
   "execution_count": null,
   "metadata": {},
   "outputs": [],
   "source": [
    "// DrawLogPlot(\"Relative position command (StartMov)\", False);"
   ]
  }
 ],
 "metadata": {
  "kernelspec": {
   "display_name": "C++17",
   "language": "C++17",
   "name": "xcpp17"
  },
  "language_info": {
   "codemirror_mode": "text/x-c++src",
   "file_extension": ".cpp",
   "mimetype": "text/x-c++src",
   "name": "c++",
   "version": "17"
  }
 },
 "nbformat": 4,
 "nbformat_minor": 4
}
