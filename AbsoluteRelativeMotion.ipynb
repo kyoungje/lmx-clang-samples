{
 "cells": [
  {
   "cell_type": "markdown",
   "metadata": {},
   "source": [
    "# 📖 [LMX Tutorial] Absolute and Relative motion\n",
    "\n",
    "Based on the following WMX API document:\n",
    "\n",
    "http://download.movensys.com:8222/doc/wmx3/en/html/api/page_WMXDOC_TUTORIAL_SEC3_1_ABS_REL.html\n",
    "\n",
    "### 📢Important note about xeus-cling\n",
    "A Jupyter kernel for C++ based on the `cling` C++ interpreter and the `xeus` native implementation of the Jupyter protocol, xeus.\n",
    "\n",
    "To understand how the xeus-clang works, please try to run the following sample notebook provided by xeus-cling in advance.\n",
    "\n",
    "Link to [xeus-cling notebook sample](xeus-cling-notebooks/xcpp.ipynb)"
   ]
  },
  {
   "cell_type": "markdown",
   "metadata": {},
   "source": [
    "## Import WMX library and Initialize a WMX3 API device"
   ]
  },
  {
   "cell_type": "code",
   "execution_count": null,
   "metadata": {},
   "outputs": [],
   "source": [
    "// Load necessary libraries that required by WMX3 API first\n",
    "#include <lmx/lmx_cling_config.hpp>\n",
    "\n",
    "// When all the devices are done, the WMX3 engine will also terminate.\n",
    "#include \"WMX3Api.h\"\n",
    "\n",
    "#include <iostream>\n",
    "\n",
    "using namespace wmx3Api;\n",
    "\n",
    "WMX3Api Device;\n",
    "\n",
    "std::cout << \"Program Start\" << std::endl;\n",
    "\n",
    "// Get DevicesInfo to determine the type of device currently created\n",
    "wmx3Api::DevicesInfoA devInfo;\n",
    "\n",
    "// Create device.\n",
    "Device.CreateDevice(\"/opt/lmx/\", DeviceType::DeviceTypeNormal,\n",
    "                    INFINITE);\n",
    "\n",
    "// Set Device Name.\n",
    "Device.SetDeviceName(\"device\");\n",
    "\n",
    "// Get created device state.\n",
    "Device.GetAllDevices(&devInfo);\n",
    "std::cout << \"device Id :\" << devInfo.devices[0].id << \" Name : \" << devInfo.devices[0].name << std::endl;\n",
    "\n",
    "// Close device.\n",
    "Device.CloseDevice();"
   ]
  }
 ],
 "metadata": {
  "kernelspec": {
   "display_name": "C++17",
   "language": "C++17",
   "name": "xcpp17"
  },
  "language_info": {
   "codemirror_mode": "text/x-c++src",
   "file_extension": ".cpp",
   "mimetype": "text/x-c++src",
   "name": "c++",
   "version": "17"
  }
 },
 "nbformat": 4,
 "nbformat_minor": 2
}
